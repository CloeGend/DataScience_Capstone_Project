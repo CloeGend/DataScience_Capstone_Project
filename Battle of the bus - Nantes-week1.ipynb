{
 "cells": [
  {
   "cell_type": "markdown",
   "metadata": {},
   "source": [
    "<h1 align=center><img src = \"https://res.cloudinary.com/adagio/image/upload/s--yMJPmZTl--/c_thumb%2Cdn_72%2Cf_auto%2Ch_380%2Cq_auto%2Cw_1280/v1/destinations/France/03_Photo_villes/Nantes/1_Nantes.jpg?itok=ywOuoAUu\" width = 2000> </a> "
   ]
  },
  {
   "cell_type": "markdown",
   "metadata": {},
   "source": [
    "<h1 align=\"center\"><font size = 20><strong><span style=\"color: #0579ab;\">The Battle for the bus - Nantes</span></strong></font></h1>"
   ]
  },
  {
   "cell_type": "markdown",
   "metadata": {
    "button": false,
    "new_sheet": false,
    "run_control": {
     "read_only": false
    }
   },
   "source": [
    "## Table of Contents\n",
    "\n",
    "<div class=\"alert alert-block alert-info\" style=\"margin-top: 20px\">\n",
    "\n",
    "1. [Introduction](#0)<br>\n",
    "2. [Data requirements](#2) <br>\n",
    "3. [Methodology](#4) <br>\n",
    "4. [Results and discussion] (#6) <br>\n",
    "5. [Conclusion] (#8) <br>\n",
    "</div>\n",
    "<hr>"
   ]
  },
  {
   "cell_type": "markdown",
   "metadata": {},
   "source": [
    "## 1. Introduction <a id=\"0\"></a>\n",
    "\n",
    "#### Nantes is the fifth biggest city in France in terms of number of inhabitants. The city benefits from its proximity to the Atlantic, its international airport and a 2-hour train line connecting it to Paris. Consequently, Nantes hosts more than a million visitors every year (**1,735,000** in 2016, the equivalent of 50% of its population). However, public transportation in Nantes are still being developed and the rapidly growing city is suffering from a more and more congested traffic. \n",
    "\n",
    "#### We will explore Nantes’ public transport service and identify areas where it seems to lack. In doing so we will also focus on venues and places which attract tourists and make sure that they are all connected to a sufficiently close transport station. This will allow us to make recommendations to public bodies to improve connections for commuters as well as specific connections for tourists.\n",
    "\n",
    "------------"
   ]
  },
  {
   "cell_type": "markdown",
   "metadata": {},
   "source": [
    "### Importing the necessary libraries and modules"
   ]
  },
  {
   "cell_type": "code",
   "execution_count": 80,
   "metadata": {},
   "outputs": [
    {
     "name": "stdout",
     "output_type": "stream",
     "text": [
      "Collecting package metadata (current_repodata.json): done\n",
      "Solving environment: done\n",
      "\n",
      "# All requested packages already installed.\n",
      "\n",
      "Requirement already satisfied: geocoder in /home/jupyterlab/conda/envs/python/lib/python3.6/site-packages (1.38.1)\n",
      "Requirement already satisfied: click in /home/jupyterlab/conda/envs/python/lib/python3.6/site-packages (from geocoder) (7.1.2)\n",
      "Requirement already satisfied: requests in /home/jupyterlab/conda/envs/python/lib/python3.6/site-packages (from geocoder) (2.23.0)\n",
      "Requirement already satisfied: ratelim in /home/jupyterlab/conda/envs/python/lib/python3.6/site-packages (from geocoder) (0.1.6)\n",
      "Requirement already satisfied: six in /home/jupyterlab/conda/envs/python/lib/python3.6/site-packages (from geocoder) (1.14.0)\n",
      "Requirement already satisfied: future in /home/jupyterlab/conda/envs/python/lib/python3.6/site-packages (from geocoder) (0.18.2)\n",
      "Requirement already satisfied: chardet<4,>=3.0.2 in /home/jupyterlab/conda/envs/python/lib/python3.6/site-packages (from requests->geocoder) (3.0.4)\n",
      "Requirement already satisfied: urllib3!=1.25.0,!=1.25.1,<1.26,>=1.21.1 in /home/jupyterlab/conda/envs/python/lib/python3.6/site-packages (from requests->geocoder) (1.25.9)\n",
      "Requirement already satisfied: certifi>=2017.4.17 in /home/jupyterlab/conda/envs/python/lib/python3.6/site-packages (from requests->geocoder) (2020.4.5.1)\n",
      "Requirement already satisfied: idna<3,>=2.5 in /home/jupyterlab/conda/envs/python/lib/python3.6/site-packages (from requests->geocoder) (2.9)\n",
      "Requirement already satisfied: decorator in /home/jupyterlab/conda/envs/python/lib/python3.6/site-packages (from ratelim->geocoder) (4.4.2)\n"
     ]
    }
   ],
   "source": [
    "import numpy as np # library to handle data in a vectorized manner\n",
    "\n",
    "import pandas as pd # library for data analsysis\n",
    "pd.set_option('display.max_columns', None)\n",
    "pd.set_option('display.max_rows', None)\n",
    "\n",
    "import json # library to handle JSON files\n",
    "\n",
    "!conda install -c conda-forge geopy --yes # uncomment this line if you haven't completed the Foursquare API lab\n",
    "from geopy.geocoders import Nominatim # convert an address into latitude and longitude values\n",
    "\n",
    "import requests # library to handle requests\n",
    "from pandas.io.json import json_normalize # tranform JSON file into a pandas dataframe\n",
    "\n",
    "# Matplotlib and associated plotting modules\n",
    "import matplotlib.cm as cm\n",
    "import matplotlib.colors as colors\n",
    "\n",
    "# import k-means from clustering stage\n",
    "from sklearn.cluster import KMeans\n",
    "\n",
    "#!conda install -c conda-forge folium=0.5.0 --yes # uncomment this line if you haven't completed the Foursquare API lab\n",
    "import folium # map rendering library\n",
    "\n",
    "\n",
    "#To get coordinates\n",
    "!pip install geocoder\n",
    "import geocoder"
   ]
  },
  {
   "cell_type": "markdown",
   "metadata": {},
   "source": [
    "## 2. Data requirements <a id=\"2\"></a>"
   ]
  },
  {
   "cell_type": "markdown",
   "metadata": {},
   "source": [
    "To solve this question, we will leverage several data sources:\n",
    "\n",
    "#### 2.1. We need data about **existing public transportion** in Nantes. \n",
    "\n",
    "Public transports in Nantes include buses, tramways and a public bike-share service. Thankfully, Nantes Metropole is providing open source datasets about the bus/tram stops and their location, as well as the bike stations:\n",
    "\n",
    "   + _Bus and tram stops:_ [Datasource](https://data.nantesmetropole.fr/explore/dataset/244400404_tan-arrets/table/)\n",
    "\n"
   ]
  },
  {
   "cell_type": "code",
   "execution_count": 105,
   "metadata": {},
   "outputs": [
    {
     "name": "stderr",
     "output_type": "stream",
     "text": [
      "/home/jupyterlab/conda/envs/python/lib/python3.6/site-packages/pandas/core/frame.py:2963: SettingWithCopyWarning: \n",
      "A value is trying to be set on a copy of a slice from a DataFrame.\n",
      "Try using .loc[row_indexer,col_indexer] = value instead\n",
      "\n",
      "See the caveats in the documentation: https://pandas.pydata.org/pandas-docs/stable/user_guide/indexing.html#returning-a-view-versus-a-copy\n",
      "  self[k1] = value[k2]\n"
     ]
    },
    {
     "data": {
      "text/html": [
       "<div>\n",
       "<style scoped>\n",
       "    .dataframe tbody tr th:only-of-type {\n",
       "        vertical-align: middle;\n",
       "    }\n",
       "\n",
       "    .dataframe tbody tr th {\n",
       "        vertical-align: top;\n",
       "    }\n",
       "\n",
       "    .dataframe thead th {\n",
       "        text-align: right;\n",
       "    }\n",
       "</style>\n",
       "<table border=\"1\" class=\"dataframe\">\n",
       "  <thead>\n",
       "    <tr style=\"text-align: right;\">\n",
       "      <th></th>\n",
       "      <th>ID</th>\n",
       "      <th>Name</th>\n",
       "      <th>Coordinates</th>\n",
       "      <th>Latitude</th>\n",
       "      <th>Longitude</th>\n",
       "    </tr>\n",
       "  </thead>\n",
       "  <tbody>\n",
       "    <tr>\n",
       "      <th>0</th>\n",
       "      <td>ACHA</td>\n",
       "      <td>Angle Chaillou</td>\n",
       "      <td>47.26976827,-1.5721161</td>\n",
       "      <td>47.26976827</td>\n",
       "      <td>-1.5721161</td>\n",
       "    </tr>\n",
       "    <tr>\n",
       "      <th>1</th>\n",
       "      <td>AIGU</td>\n",
       "      <td>Aiguillon</td>\n",
       "      <td>47.25447241,-1.49652294</td>\n",
       "      <td>47.25447241</td>\n",
       "      <td>-1.49652294</td>\n",
       "    </tr>\n",
       "    <tr>\n",
       "      <th>2</th>\n",
       "      <td>ALCH</td>\n",
       "      <td>Champ de l'Alouette</td>\n",
       "      <td>47.28282777,-1.5800863</td>\n",
       "      <td>47.28282777</td>\n",
       "      <td>-1.5800863</td>\n",
       "    </tr>\n",
       "    <tr>\n",
       "      <th>3</th>\n",
       "      <td>AMER</td>\n",
       "      <td>Américains</td>\n",
       "      <td>47.23612591,-1.5682026</td>\n",
       "      <td>47.23612591</td>\n",
       "      <td>-1.5682026</td>\n",
       "    </tr>\n",
       "    <tr>\n",
       "      <th>4</th>\n",
       "      <td>APAV</td>\n",
       "      <td>Apave</td>\n",
       "      <td>47.22539944,-1.64741053</td>\n",
       "      <td>47.22539944</td>\n",
       "      <td>-1.64741053</td>\n",
       "    </tr>\n",
       "  </tbody>\n",
       "</table>\n",
       "</div>"
      ],
      "text/plain": [
       "     ID                 Name              Coordinates     Latitude  \\\n",
       "0  ACHA       Angle Chaillou   47.26976827,-1.5721161  47.26976827   \n",
       "1  AIGU            Aiguillon  47.25447241,-1.49652294  47.25447241   \n",
       "2  ALCH  Champ de l'Alouette   47.28282777,-1.5800863  47.28282777   \n",
       "3  AMER           Américains   47.23612591,-1.5682026  47.23612591   \n",
       "4  APAV                Apave  47.22539944,-1.64741053  47.22539944   \n",
       "\n",
       "     Longitude  \n",
       "0   -1.5721161  \n",
       "1  -1.49652294  \n",
       "2   -1.5800863  \n",
       "3   -1.5682026  \n",
       "4  -1.64741053  "
      ]
     },
     "execution_count": 105,
     "metadata": {},
     "output_type": "execute_result"
    }
   ],
   "source": [
    "transport_stops=pd.read_csv('https://data.nantesmetropole.fr/explore/dataset/244400404_tan-arrets/download/?format=csv&timezone=Europe/Berlin&lang=fr&use_labels_for_header=true&csv_separator=%3B', sep=';', header=0)\n",
    "filtered_columns=['ID','Name','Coordinates']\n",
    "stops = transport_stops[filtered_columns]\n",
    "stops[['Latitude','Longitude']]=stops.Coordinates.str.split(\",\",expand=True,)\n",
    "stops.head()"
   ]
  },
  {
   "cell_type": "markdown",
   "metadata": {},
   "source": [
    "   + _Bike stations:_ [Datasource](https://data.nantesmetropole.fr/explore/dataset/244400404_stations-velos-libre-service-nantes-metropole-disponibilites/table/)\n",
    "\n",
    "\n"
   ]
  },
  {
   "cell_type": "code",
   "execution_count": 110,
   "metadata": {},
   "outputs": [
    {
     "name": "stderr",
     "output_type": "stream",
     "text": [
      "/home/jupyterlab/conda/envs/python/lib/python3.6/site-packages/pandas/core/frame.py:2963: SettingWithCopyWarning: \n",
      "A value is trying to be set on a copy of a slice from a DataFrame.\n",
      "Try using .loc[row_indexer,col_indexer] = value instead\n",
      "\n",
      "See the caveats in the documentation: https://pandas.pydata.org/pandas-docs/stable/user_guide/indexing.html#returning-a-view-versus-a-copy\n",
      "  self[k1] = value[k2]\n"
     ]
    },
    {
     "data": {
      "text/html": [
       "<div>\n",
       "<style scoped>\n",
       "    .dataframe tbody tr th:only-of-type {\n",
       "        vertical-align: middle;\n",
       "    }\n",
       "\n",
       "    .dataframe tbody tr th {\n",
       "        vertical-align: top;\n",
       "    }\n",
       "\n",
       "    .dataframe thead th {\n",
       "        text-align: right;\n",
       "    }\n",
       "</style>\n",
       "<table border=\"1\" class=\"dataframe\">\n",
       "  <thead>\n",
       "    <tr style=\"text-align: right;\">\n",
       "      <th></th>\n",
       "      <th>number</th>\n",
       "      <th>name</th>\n",
       "      <th>position</th>\n",
       "      <th>Bike Stands</th>\n",
       "      <th>Latitude</th>\n",
       "      <th>Longitude</th>\n",
       "    </tr>\n",
       "  </thead>\n",
       "  <tbody>\n",
       "    <tr>\n",
       "      <th>1</th>\n",
       "      <td>124</td>\n",
       "      <td>#00124 - EPHEMERE SCOPITONE</td>\n",
       "      <td>47.202084,-1.554154</td>\n",
       "      <td>15</td>\n",
       "      <td>47.202084</td>\n",
       "      <td>-1.554154</td>\n",
       "    </tr>\n",
       "    <tr>\n",
       "      <th>2</th>\n",
       "      <td>1012</td>\n",
       "      <td>01012 - BORNE TEST NANTES 2</td>\n",
       "      <td>47.195299,-1.557559</td>\n",
       "      <td>1</td>\n",
       "      <td>47.195299</td>\n",
       "      <td>-1.557559</td>\n",
       "    </tr>\n",
       "    <tr>\n",
       "      <th>3</th>\n",
       "      <td>16</td>\n",
       "      <td>016-EDOUARD NORMAND</td>\n",
       "      <td>47.2190275447,-1.56341948405</td>\n",
       "      <td>15</td>\n",
       "      <td>47.2190275447</td>\n",
       "      <td>-1.56341948405</td>\n",
       "    </tr>\n",
       "    <tr>\n",
       "      <th>4</th>\n",
       "      <td>33</td>\n",
       "      <td>033-RACINE</td>\n",
       "      <td>47.2135226137,-1.56314087443</td>\n",
       "      <td>15</td>\n",
       "      <td>47.2135226137</td>\n",
       "      <td>-1.56314087443</td>\n",
       "    </tr>\n",
       "    <tr>\n",
       "      <th>5</th>\n",
       "      <td>43</td>\n",
       "      <td>043 - MACHINE DE L'ÎLE</td>\n",
       "      <td>47.2069189587,-1.56480679078</td>\n",
       "      <td>36</td>\n",
       "      <td>47.2069189587</td>\n",
       "      <td>-1.56480679078</td>\n",
       "    </tr>\n",
       "  </tbody>\n",
       "</table>\n",
       "</div>"
      ],
      "text/plain": [
       "   number                         name                      position  \\\n",
       "1     124  #00124 - EPHEMERE SCOPITONE           47.202084,-1.554154   \n",
       "2    1012  01012 - BORNE TEST NANTES 2           47.195299,-1.557559   \n",
       "3      16          016-EDOUARD NORMAND  47.2190275447,-1.56341948405   \n",
       "4      33                   033-RACINE  47.2135226137,-1.56314087443   \n",
       "5      43       043 - MACHINE DE L'ÎLE  47.2069189587,-1.56480679078   \n",
       "\n",
       "   Bike Stands       Latitude       Longitude  \n",
       "1           15      47.202084       -1.554154  \n",
       "2            1      47.195299       -1.557559  \n",
       "3           15  47.2190275447  -1.56341948405  \n",
       "4           15  47.2135226137  -1.56314087443  \n",
       "5           36  47.2069189587  -1.56480679078  "
      ]
     },
     "execution_count": 110,
     "metadata": {},
     "output_type": "execute_result"
    }
   ],
   "source": [
    "bike_stations=pd.read_csv('https://data.nantesmetropole.fr/explore/dataset/244400404_stations-velos-libre-service-nantes-metropole-disponibilites/download/?format=csv&timezone=Europe/Berlin&lang=fr&use_labels_for_header=true&csv_separator=%3B',sep=\";\", header=0)\n",
    "#Let's delete the stations that are closed\n",
    "bike_stations=bike_stations[bike_stations.status=='OPEN']\n",
    "\n",
    "filtered_columns=['number','name','position','Bike Stands']\n",
    "bike = bike_stations[filtered_columns]\n",
    "bike[['Latitude','Longitude']]=bike.position.str.split(\",\",expand=True,)\n",
    "bike.head()"
   ]
  },
  {
   "cell_type": "markdown",
   "metadata": {},
   "source": [
    "#### 2.2. We need data *about popular venues* among tourists.\n",
    "\n",
    "   + For that part we will leverage _Foursquare API_to collect data about venues in Nantes. [A study published in 2011](https://www.blogdumoderateur.com/portrait-des-utilisateurs-de-foursquare-en-france/), a time when Foursquare was most popular, uncovered that most French users of Foursquare were from Paris and its region (56%) while only 3% were from Pays de la Loire, Nantes' region. We will therefore assume (for the purpose of this rapid study) that the venues we will find on Foursquare are frequented by tourists.\n"
   ]
  },
  {
   "cell_type": "markdown",
   "metadata": {},
   "source": [
    "_Define Foursquare Credentials and Version_"
   ]
  },
  {
   "cell_type": "code",
   "execution_count": 87,
   "metadata": {},
   "outputs": [],
   "source": [
    "CLIENT_ID = 'LMUV1AVDGR53S5CNXBW52G1EMRFMVCWQ5WGZ4MOCZQE1ZQ0C' # my Foursquare ID\n",
    "CLIENT_SECRET = 'G22Q3KB55LRBBCHYJXRYO1Y4MGQ4KPNW0QRNGNJ35GYQ3CI4' # my Foursquare Secret\n",
    "VERSION = '20180605' # Foursquare API version"
   ]
  },
  {
   "cell_type": "markdown",
   "metadata": {},
   "source": [
    "_Let's import the function to explore all the neighborhoods in Nantes using Foursquare_"
   ]
  },
  {
   "cell_type": "code",
   "execution_count": 89,
   "metadata": {},
   "outputs": [],
   "source": [
    "def getNearbyVenues(names, latitudes, longitudes, radius=500, LIMIT=100):\n",
    "    \n",
    "    venues_list=[]\n",
    "    for name, lat, lng in zip(names, latitudes, longitudes):\n",
    "        print(name)\n",
    "            \n",
    "        # create the API request URL\n",
    "        url = 'https://api.foursquare.com/v2/venues/explore?&client_id={}&client_secret={}&v={}&ll={},{}&radius={}&limit={}'.format(\n",
    "            CLIENT_ID, \n",
    "            CLIENT_SECRET, \n",
    "            VERSION, \n",
    "            lat, \n",
    "            lng, \n",
    "            radius, \n",
    "            LIMIT)\n",
    "            \n",
    "        # make the GET request\n",
    "        results = requests.get(url).json()[\"response\"]['groups'][0]['items']\n",
    "\n",
    "        # return only relevant information for each nearby venue\n",
    "        venues_list.append([(\n",
    "            name, \n",
    "            lat, \n",
    "            lng, \n",
    "            v['venue']['name'], \n",
    "            v['venue']['location']['lat'], \n",
    "            v['venue']['location']['lng'],  \n",
    "            v['venue']['categories'][0]['name']) for v in results])\n",
    "\n",
    "    nearby_venues = pd.DataFrame([item for venue_list in venues_list for item in venue_list])\n",
    "    nearby_venues.columns = ['Neighborhood', \n",
    "                  'Neighborhood Latitude', \n",
    "                  'Neighborhood Longitude', \n",
    "                  'Venue', \n",
    "                  'Venue Latitude', \n",
    "                  'Venue Longitude', \n",
    "                  'Venue Category']\n",
    "    \n",
    "    return(nearby_venues)"
   ]
  },
  {
   "cell_type": "markdown",
   "metadata": {
    "button": false,
    "editable": true,
    "new_sheet": false,
    "run_control": {
     "read_only": false
    }
   },
   "source": [
    "_We will download the venues by Nantes boroughs so first let's import the GeoJSOn for the boroughs_"
   ]
  },
  {
   "cell_type": "code",
   "execution_count": 112,
   "metadata": {
    "button": false,
    "editable": true,
    "new_sheet": false,
    "run_control": {
     "read_only": false
    }
   },
   "outputs": [],
   "source": [
    "# download boroughs geojson file\n",
    "import urllib.request, json \n",
    "with urllib.request.urlopen(\"https://data.nantesmetropole.fr/explore/dataset/244400404_quartiers-nantes/download/?format=geojson&timezone=Europe/Berlin&lang=fr\") as url:\n",
    "    nantes_boroughs = json.loads(url.read().decode())"
   ]
  },
  {
   "cell_type": "markdown",
   "metadata": {},
   "source": [
    "_From that GeoJSON, let's create a dataframe containing the boroughs names and coordinates_"
   ]
  },
  {
   "cell_type": "code",
   "execution_count": 113,
   "metadata": {},
   "outputs": [
    {
     "data": {
      "text/html": [
       "<div>\n",
       "<style scoped>\n",
       "    .dataframe tbody tr th:only-of-type {\n",
       "        vertical-align: middle;\n",
       "    }\n",
       "\n",
       "    .dataframe tbody tr th {\n",
       "        vertical-align: top;\n",
       "    }\n",
       "\n",
       "    .dataframe thead th {\n",
       "        text-align: right;\n",
       "    }\n",
       "</style>\n",
       "<table border=\"1\" class=\"dataframe\">\n",
       "  <thead>\n",
       "    <tr style=\"text-align: right;\">\n",
       "      <th></th>\n",
       "      <th>idobj</th>\n",
       "      <th>Borough</th>\n",
       "      <th>Latitude</th>\n",
       "      <th>Longitude</th>\n",
       "    </tr>\n",
       "  </thead>\n",
       "  <tbody>\n",
       "    <tr>\n",
       "      <th>0</th>\n",
       "      <td>6</td>\n",
       "      <td>Ile de Nantes</td>\n",
       "      <td>47.2052</td>\n",
       "      <td>-1.54675</td>\n",
       "    </tr>\n",
       "    <tr>\n",
       "      <th>1</th>\n",
       "      <td>4</td>\n",
       "      <td>Hauts Pavés - Saint Félix</td>\n",
       "      <td>47.2281</td>\n",
       "      <td>-1.56349</td>\n",
       "    </tr>\n",
       "    <tr>\n",
       "      <th>2</th>\n",
       "      <td>2</td>\n",
       "      <td>Bellevue - Chantenay - Sainte Anne</td>\n",
       "      <td>47.1981</td>\n",
       "      <td>-1.60245</td>\n",
       "    </tr>\n",
       "    <tr>\n",
       "      <th>3</th>\n",
       "      <td>7</td>\n",
       "      <td>Breil - Barberie</td>\n",
       "      <td>47.2361</td>\n",
       "      <td>-1.57703</td>\n",
       "    </tr>\n",
       "    <tr>\n",
       "      <th>4</th>\n",
       "      <td>11</td>\n",
       "      <td>Nantes Sud</td>\n",
       "      <td>47.1916</td>\n",
       "      <td>-1.53045</td>\n",
       "    </tr>\n",
       "    <tr>\n",
       "      <th>5</th>\n",
       "      <td>10</td>\n",
       "      <td>Doulon - Bottière</td>\n",
       "      <td>47.237</td>\n",
       "      <td>-1.50657</td>\n",
       "    </tr>\n",
       "    <tr>\n",
       "      <th>6</th>\n",
       "      <td>1</td>\n",
       "      <td>Centre Ville</td>\n",
       "      <td>47.2137</td>\n",
       "      <td>-1.55637</td>\n",
       "    </tr>\n",
       "    <tr>\n",
       "      <th>7</th>\n",
       "      <td>9</td>\n",
       "      <td>Nantes Erdre</td>\n",
       "      <td>47.2654</td>\n",
       "      <td>-1.52394</td>\n",
       "    </tr>\n",
       "    <tr>\n",
       "      <th>8</th>\n",
       "      <td>8</td>\n",
       "      <td>Nantes Nord</td>\n",
       "      <td>47.2575</td>\n",
       "      <td>-1.56547</td>\n",
       "    </tr>\n",
       "    <tr>\n",
       "      <th>9</th>\n",
       "      <td>3</td>\n",
       "      <td>Dervallières - Zola</td>\n",
       "      <td>47.2163</td>\n",
       "      <td>-1.58938</td>\n",
       "    </tr>\n",
       "    <tr>\n",
       "      <th>10</th>\n",
       "      <td>5</td>\n",
       "      <td>Malakoff - Saint-Donatien</td>\n",
       "      <td>47.2228</td>\n",
       "      <td>-1.53567</td>\n",
       "    </tr>\n",
       "  </tbody>\n",
       "</table>\n",
       "</div>"
      ],
      "text/plain": [
       "   idobj                             Borough Latitude Longitude\n",
       "0      6                       Ile de Nantes  47.2052  -1.54675\n",
       "1      4           Hauts Pavés - Saint Félix  47.2281  -1.56349\n",
       "2      2  Bellevue - Chantenay - Sainte Anne  47.1981  -1.60245\n",
       "3      7                    Breil - Barberie  47.2361  -1.57703\n",
       "4     11                          Nantes Sud  47.1916  -1.53045\n",
       "5     10                   Doulon - Bottière   47.237  -1.50657\n",
       "6      1                        Centre Ville  47.2137  -1.55637\n",
       "7      9                        Nantes Erdre  47.2654  -1.52394\n",
       "8      8                         Nantes Nord  47.2575  -1.56547\n",
       "9      3                 Dervallières - Zola  47.2163  -1.58938\n",
       "10     5           Malakoff - Saint-Donatien  47.2228  -1.53567"
      ]
     },
     "execution_count": 113,
     "metadata": {},
     "output_type": "execute_result"
    }
   ],
   "source": [
    "nantes_data = pd.DataFrame(columns=['idobj','Borough','Latitude','Longitude'])\n",
    "for i in range(11):\n",
    "    nantes_data.loc[i,'idobj']=nantes_boroughs['features'][i]['properties']['idobj']\n",
    "    nantes_data.loc[i,'Borough']=nantes_boroughs['features'][i]['properties']['nom']\n",
    "    nantes_data.loc[i,'Latitude']=nantes_boroughs['features'][i]['properties']['geo_point_2d'][0]\n",
    "    nantes_data.loc[i,'Longitude']=nantes_boroughs['features'][i]['properties']['geo_point_2d'][1]\n",
    "\n",
    "pd.to_numeric(nantes_data['idobj'])\n",
    "nantes_data"
   ]
  },
  {
   "cell_type": "markdown",
   "metadata": {},
   "source": [
    "_Now write the code to run the above function on each neighborhood and create a new dataframe called **nantes_venues**._"
   ]
  },
  {
   "cell_type": "code",
   "execution_count": 114,
   "metadata": {
    "scrolled": true
   },
   "outputs": [
    {
     "name": "stdout",
     "output_type": "stream",
     "text": [
      "Ile de Nantes\n",
      "Hauts Pavés - Saint Félix\n",
      "Bellevue - Chantenay - Sainte Anne\n",
      "Breil - Barberie\n",
      "Nantes Sud\n",
      "Doulon - Bottière\n",
      "Centre Ville\n",
      "Nantes Erdre\n",
      "Nantes Nord\n",
      "Dervallières - Zola\n",
      "Malakoff - Saint-Donatien\n"
     ]
    }
   ],
   "source": [
    "# type your answer here\n",
    "\n",
    "nantes_venues = getNearbyVenues(names=nantes_data['Borough'],\n",
    "                                   latitudes=nantes_data['Latitude'],\n",
    "                                   longitudes=nantes_data['Longitude']\n",
    "                                  )\n",
    "\n"
   ]
  },
  {
   "cell_type": "markdown",
   "metadata": {},
   "source": [
    "#### Let's check the size of the resulting dataframe"
   ]
  },
  {
   "cell_type": "code",
   "execution_count": 115,
   "metadata": {},
   "outputs": [
    {
     "name": "stdout",
     "output_type": "stream",
     "text": [
      "(147, 7)\n"
     ]
    },
    {
     "data": {
      "text/html": [
       "<div>\n",
       "<style scoped>\n",
       "    .dataframe tbody tr th:only-of-type {\n",
       "        vertical-align: middle;\n",
       "    }\n",
       "\n",
       "    .dataframe tbody tr th {\n",
       "        vertical-align: top;\n",
       "    }\n",
       "\n",
       "    .dataframe thead th {\n",
       "        text-align: right;\n",
       "    }\n",
       "</style>\n",
       "<table border=\"1\" class=\"dataframe\">\n",
       "  <thead>\n",
       "    <tr style=\"text-align: right;\">\n",
       "      <th></th>\n",
       "      <th>Neighborhood</th>\n",
       "      <th>Neighborhood Latitude</th>\n",
       "      <th>Neighborhood Longitude</th>\n",
       "      <th>Venue</th>\n",
       "      <th>Venue Latitude</th>\n",
       "      <th>Venue Longitude</th>\n",
       "      <th>Venue Category</th>\n",
       "    </tr>\n",
       "  </thead>\n",
       "  <tbody>\n",
       "    <tr>\n",
       "      <th>0</th>\n",
       "      <td>Ile de Nantes</td>\n",
       "      <td>47.20522</td>\n",
       "      <td>-1.546747</td>\n",
       "      <td>Pizza Tradition</td>\n",
       "      <td>47.201625</td>\n",
       "      <td>-1.546358</td>\n",
       "      <td>Pizza Place</td>\n",
       "    </tr>\n",
       "    <tr>\n",
       "      <th>1</th>\n",
       "      <td>Ile de Nantes</td>\n",
       "      <td>47.20522</td>\n",
       "      <td>-1.546747</td>\n",
       "      <td>Jardin des Fonderies</td>\n",
       "      <td>47.205913</td>\n",
       "      <td>-1.545194</td>\n",
       "      <td>Garden</td>\n",
       "    </tr>\n",
       "    <tr>\n",
       "      <th>2</th>\n",
       "      <td>Ile de Nantes</td>\n",
       "      <td>47.20522</td>\n",
       "      <td>-1.546747</td>\n",
       "      <td>Les Fonderies</td>\n",
       "      <td>47.205864</td>\n",
       "      <td>-1.545335</td>\n",
       "      <td>French Restaurant</td>\n",
       "    </tr>\n",
       "    <tr>\n",
       "      <th>3</th>\n",
       "      <td>Ile de Nantes</td>\n",
       "      <td>47.20522</td>\n",
       "      <td>-1.546747</td>\n",
       "      <td>Mangin Beaulieu</td>\n",
       "      <td>47.204752</td>\n",
       "      <td>-1.543296</td>\n",
       "      <td>Basketball Stadium</td>\n",
       "    </tr>\n",
       "    <tr>\n",
       "      <th>4</th>\n",
       "      <td>Ile de Nantes</td>\n",
       "      <td>47.20522</td>\n",
       "      <td>-1.546747</td>\n",
       "      <td>Horizon Vert</td>\n",
       "      <td>47.204240</td>\n",
       "      <td>-1.550200</td>\n",
       "      <td>Health Food Store</td>\n",
       "    </tr>\n",
       "  </tbody>\n",
       "</table>\n",
       "</div>"
      ],
      "text/plain": [
       "    Neighborhood  Neighborhood Latitude  Neighborhood Longitude  \\\n",
       "0  Ile de Nantes               47.20522               -1.546747   \n",
       "1  Ile de Nantes               47.20522               -1.546747   \n",
       "2  Ile de Nantes               47.20522               -1.546747   \n",
       "3  Ile de Nantes               47.20522               -1.546747   \n",
       "4  Ile de Nantes               47.20522               -1.546747   \n",
       "\n",
       "                  Venue  Venue Latitude  Venue Longitude      Venue Category  \n",
       "0       Pizza Tradition       47.201625        -1.546358         Pizza Place  \n",
       "1  Jardin des Fonderies       47.205913        -1.545194              Garden  \n",
       "2         Les Fonderies       47.205864        -1.545335   French Restaurant  \n",
       "3       Mangin Beaulieu       47.204752        -1.543296  Basketball Stadium  \n",
       "4          Horizon Vert       47.204240        -1.550200   Health Food Store  "
      ]
     },
     "execution_count": 115,
     "metadata": {},
     "output_type": "execute_result"
    }
   ],
   "source": [
    "print(nantes_venues.shape)\n",
    "nantes_venues.head()"
   ]
  },
  {
   "cell_type": "markdown",
   "metadata": {},
   "source": [
    "\n",
    "   + In addition, in case Foursquare data is too scarce, we might want to use other open source data from Nantes Metropole like:\n",
    "     - Cultural places (museums, galeries, libraries...) from this [datasource](https://data.nantesmetropole.fr/explore/dataset/244400404_equipements-publics-nantes-metropole/table/?disjunctive.libtheme&disjunctive.libcategorie&disjunctive.libtype&disjunctive.statut&disjunctive.commune)\n",
    "     - Swimming pools from this [datasource](https://data.nantesmetropole.fr/explore/dataset/244400404_piscines-nantes-metropole/table/?disjunctive.commune&disjunctive.acces_pmr_equipt&disjunctive.bassin_sportif&disjunctive.pataugeoire&disjunctive.toboggan&disjunctive.bassin_apprentissage&disjunctive.plongeoir&disjunctive.solarium&disjunctive.bassin_loisir&disjunctive.accessibilite_handicap&disjunctive.libre_service)\n"
   ]
  },
  {
   "cell_type": "code",
   "execution_count": 120,
   "metadata": {},
   "outputs": [
    {
     "name": "stderr",
     "output_type": "stream",
     "text": [
      "/home/jupyterlab/conda/envs/python/lib/python3.6/site-packages/pandas/core/frame.py:2963: SettingWithCopyWarning: \n",
      "A value is trying to be set on a copy of a slice from a DataFrame.\n",
      "Try using .loc[row_indexer,col_indexer] = value instead\n",
      "\n",
      "See the caveats in the documentation: https://pandas.pydata.org/pandas-docs/stable/user_guide/indexing.html#returning-a-view-versus-a-copy\n",
      "  self[k1] = value[k2]\n"
     ]
    },
    {
     "data": {
      "text/html": [
       "<div>\n",
       "<style scoped>\n",
       "    .dataframe tbody tr th:only-of-type {\n",
       "        vertical-align: middle;\n",
       "    }\n",
       "\n",
       "    .dataframe tbody tr th {\n",
       "        vertical-align: top;\n",
       "    }\n",
       "\n",
       "    .dataframe thead th {\n",
       "        text-align: right;\n",
       "    }\n",
       "</style>\n",
       "<table border=\"1\" class=\"dataframe\">\n",
       "  <thead>\n",
       "    <tr style=\"text-align: right;\">\n",
       "      <th></th>\n",
       "      <th>Equipement</th>\n",
       "      <th>Catégorie</th>\n",
       "      <th>Géolocalisation</th>\n",
       "      <th>Latitude</th>\n",
       "      <th>Longitude</th>\n",
       "    </tr>\n",
       "  </thead>\n",
       "  <tbody>\n",
       "    <tr>\n",
       "      <th>5</th>\n",
       "      <td>La Scène Michelet</td>\n",
       "      <td>Salle de spectacle</td>\n",
       "      <td>47.2328598142,-1.55689374333</td>\n",
       "      <td>47.2328598142</td>\n",
       "      <td>-1.55689374333</td>\n",
       "    </tr>\n",
       "    <tr>\n",
       "      <th>13</th>\n",
       "      <td>Mémorial de l'Abolition de l'Esclavage</td>\n",
       "      <td>Musée, Château</td>\n",
       "      <td>47.209459254,-1.56458520111</td>\n",
       "      <td>47.209459254</td>\n",
       "      <td>-1.56458520111</td>\n",
       "    </tr>\n",
       "    <tr>\n",
       "      <th>46</th>\n",
       "      <td>Fonds Régional d'Art Contemporain des Pays de ...</td>\n",
       "      <td>Salle d'exposition</td>\n",
       "      <td>47.3003926347,-1.504202425</td>\n",
       "      <td>47.3003926347</td>\n",
       "      <td>-1.504202425</td>\n",
       "    </tr>\n",
       "    <tr>\n",
       "      <th>49</th>\n",
       "      <td>Bibliothèque Mauves sur Loire</td>\n",
       "      <td>Médiathèque</td>\n",
       "      <td>47.2970772767,-1.3925876738</td>\n",
       "      <td>47.2970772767</td>\n",
       "      <td>-1.3925876738</td>\n",
       "    </tr>\n",
       "    <tr>\n",
       "      <th>52</th>\n",
       "      <td>Centre Chorégraphique National de Nantes, J. G...</td>\n",
       "      <td>Salle de spectacle</td>\n",
       "      <td>47.2259393408,-1.56268266219</td>\n",
       "      <td>47.2259393408</td>\n",
       "      <td>-1.56268266219</td>\n",
       "    </tr>\n",
       "  </tbody>\n",
       "</table>\n",
       "</div>"
      ],
      "text/plain": [
       "                                           Equipement           Catégorie  \\\n",
       "5                                   La Scène Michelet  Salle de spectacle   \n",
       "13             Mémorial de l'Abolition de l'Esclavage      Musée, Château   \n",
       "46  Fonds Régional d'Art Contemporain des Pays de ...  Salle d'exposition   \n",
       "49                      Bibliothèque Mauves sur Loire         Médiathèque   \n",
       "52  Centre Chorégraphique National de Nantes, J. G...  Salle de spectacle   \n",
       "\n",
       "                 Géolocalisation       Latitude       Longitude  \n",
       "5   47.2328598142,-1.55689374333  47.2328598142  -1.55689374333  \n",
       "13   47.209459254,-1.56458520111   47.209459254  -1.56458520111  \n",
       "46    47.3003926347,-1.504202425  47.3003926347    -1.504202425  \n",
       "49   47.2970772767,-1.3925876738  47.2970772767   -1.3925876738  \n",
       "52  47.2259393408,-1.56268266219  47.2259393408  -1.56268266219  "
      ]
     },
     "execution_count": 120,
     "metadata": {},
     "output_type": "execute_result"
    }
   ],
   "source": [
    "cultural_places=pd.read_csv('https://data.nantesmetropole.fr/explore/dataset/244400404_equipements-publics-nantes-metropole/download/?format=csv&timezone=Europe/Berlin&lang=fr&use_labels_for_header=true&csv_separator=%3B',sep=\";\", header=0)\n",
    "cultural_places=cultural_places[cultural_places['Thème']=='CULTURE']\n",
    "filtered_columns=['Equipement','Catégorie','Géolocalisation']\n",
    "cult=cultural_places[filtered_columns]\n",
    "cult[['Latitude','Longitude']]=cult['Géolocalisation'].str.split(\",\",expand=True,)\n",
    "cult.head()"
   ]
  },
  {
   "cell_type": "code",
   "execution_count": 123,
   "metadata": {},
   "outputs": [
    {
     "name": "stderr",
     "output_type": "stream",
     "text": [
      "/home/jupyterlab/conda/envs/python/lib/python3.6/site-packages/pandas/core/frame.py:2963: SettingWithCopyWarning: \n",
      "A value is trying to be set on a copy of a slice from a DataFrame.\n",
      "Try using .loc[row_indexer,col_indexer] = value instead\n",
      "\n",
      "See the caveats in the documentation: https://pandas.pydata.org/pandas-docs/stable/user_guide/indexing.html#returning-a-view-versus-a-copy\n",
      "  self[k1] = value[k2]\n"
     ]
    },
    {
     "data": {
      "text/html": [
       "<div>\n",
       "<style scoped>\n",
       "    .dataframe tbody tr th:only-of-type {\n",
       "        vertical-align: middle;\n",
       "    }\n",
       "\n",
       "    .dataframe tbody tr th {\n",
       "        vertical-align: top;\n",
       "    }\n",
       "\n",
       "    .dataframe thead th {\n",
       "        text-align: right;\n",
       "    }\n",
       "</style>\n",
       "<table border=\"1\" class=\"dataframe\">\n",
       "  <thead>\n",
       "    <tr style=\"text-align: right;\">\n",
       "      <th></th>\n",
       "      <th>Identifiant</th>\n",
       "      <th>Nom</th>\n",
       "      <th>Géolocalisation</th>\n",
       "      <th>Latitude</th>\n",
       "      <th>Longitude</th>\n",
       "    </tr>\n",
       "  </thead>\n",
       "  <tbody>\n",
       "    <tr>\n",
       "      <th>0</th>\n",
       "      <td>2445</td>\n",
       "      <td>B. Lefèvre</td>\n",
       "      <td>47.213864369,-1.720392994</td>\n",
       "      <td>47.213864369</td>\n",
       "      <td>-1.720392994</td>\n",
       "    </tr>\n",
       "    <tr>\n",
       "      <th>1</th>\n",
       "      <td>2087</td>\n",
       "      <td>Piscine</td>\n",
       "      <td>47.171742955,-1.621296297</td>\n",
       "      <td>47.171742955</td>\n",
       "      <td>-1.621296297</td>\n",
       "    </tr>\n",
       "    <tr>\n",
       "      <th>2</th>\n",
       "      <td>2567</td>\n",
       "      <td>Piscine</td>\n",
       "      <td>47.164908833,-1.469961172</td>\n",
       "      <td>47.164908833</td>\n",
       "      <td>-1.469961172</td>\n",
       "    </tr>\n",
       "    <tr>\n",
       "      <th>3</th>\n",
       "      <td>3634</td>\n",
       "      <td>Petite Amazonie</td>\n",
       "      <td>47.216392657,-1.531710057</td>\n",
       "      <td>47.216392657</td>\n",
       "      <td>-1.531710057</td>\n",
       "    </tr>\n",
       "    <tr>\n",
       "      <th>4</th>\n",
       "      <td>1846</td>\n",
       "      <td>Bourgonnière</td>\n",
       "      <td>47.207785237,-1.65677255</td>\n",
       "      <td>47.207785237</td>\n",
       "      <td>-1.65677255</td>\n",
       "    </tr>\n",
       "  </tbody>\n",
       "</table>\n",
       "</div>"
      ],
      "text/plain": [
       "   Identifiant              Nom            Géolocalisation      Latitude  \\\n",
       "0         2445       B. Lefèvre  47.213864369,-1.720392994  47.213864369   \n",
       "1         2087          Piscine  47.171742955,-1.621296297  47.171742955   \n",
       "2         2567          Piscine  47.164908833,-1.469961172  47.164908833   \n",
       "3         3634  Petite Amazonie  47.216392657,-1.531710057  47.216392657   \n",
       "4         1846     Bourgonnière   47.207785237,-1.65677255  47.207785237   \n",
       "\n",
       "      Longitude  \n",
       "0  -1.720392994  \n",
       "1  -1.621296297  \n",
       "2  -1.469961172  \n",
       "3  -1.531710057  \n",
       "4   -1.65677255  "
      ]
     },
     "execution_count": 123,
     "metadata": {},
     "output_type": "execute_result"
    }
   ],
   "source": [
    "swimming_pools=pd.read_csv('https://data.nantesmetropole.fr/explore/dataset/244400404_piscines-nantes-metropole/download/?format=csv&timezone=Europe/Berlin&lang=fr&use_labels_for_header=true&csv_separator=%3B',sep=\";\", header=0)\n",
    "filtered_columns=['Identifiant','Nom','Géolocalisation']\n",
    "swim=swimming_pools[filtered_columns]\n",
    "swim[['Latitude','Longitude']]=swim['Géolocalisation'].str.split(\",\",expand=True,)\n",
    "swim.head()"
   ]
  }
 ],
 "metadata": {
  "kernelspec": {
   "display_name": "Python",
   "language": "python",
   "name": "conda-env-python-py"
  },
  "language_info": {
   "codemirror_mode": {
    "name": "ipython",
    "version": 3
   },
   "file_extension": ".py",
   "mimetype": "text/x-python",
   "name": "python",
   "nbconvert_exporter": "python",
   "pygments_lexer": "ipython3",
   "version": "3.6.10"
  }
 },
 "nbformat": 4,
 "nbformat_minor": 4
}
